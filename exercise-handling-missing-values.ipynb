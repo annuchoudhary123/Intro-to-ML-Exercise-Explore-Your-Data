{
 "cells": [
  {
   "cell_type": "markdown",
   "id": "4b8df879",
   "metadata": {
    "papermill": {
     "duration": 0.028669,
     "end_time": "2022-05-13T18:22:06.095371",
     "exception": false,
     "start_time": "2022-05-13T18:22:06.066702",
     "status": "completed"
    },
    "tags": []
   },
   "source": [
    "**This notebook is an exercise in the [Data Cleaning](https://www.kaggle.com/learn/data-cleaning) course.  You can reference the tutorial at [this link](https://www.kaggle.com/alexisbcook/handling-missing-values).**\n",
    "\n",
    "---\n"
   ]
  },
  {
   "cell_type": "markdown",
   "id": "0ef088ae",
   "metadata": {
    "papermill": {
     "duration": 0.026274,
     "end_time": "2022-05-13T18:22:06.147062",
     "exception": false,
     "start_time": "2022-05-13T18:22:06.120788",
     "status": "completed"
    },
    "tags": []
   },
   "source": [
    "In this exercise, you'll apply what you learned in the **Handling missing values** tutorial.\n",
    "\n",
    "# Setup\n",
    "\n",
    "The questions below will give you feedback on your work. Run the following cell to set up the feedback system."
   ]
  },
  {
   "cell_type": "code",
   "execution_count": 1,
   "id": "781392a0",
   "metadata": {
    "execution": {
     "iopub.execute_input": "2022-05-13T18:22:06.202981Z",
     "iopub.status.busy": "2022-05-13T18:22:06.202323Z",
     "iopub.status.idle": "2022-05-13T18:22:11.587280Z",
     "shell.execute_reply": "2022-05-13T18:22:11.586298Z"
    },
    "papermill": {
     "duration": 5.416441,
     "end_time": "2022-05-13T18:22:11.590055",
     "exception": false,
     "start_time": "2022-05-13T18:22:06.173614",
     "status": "completed"
    },
    "tags": []
   },
   "outputs": [
    {
     "name": "stderr",
     "output_type": "stream",
     "text": [
      "/opt/conda/lib/python3.7/site-packages/ipykernel_launcher.py:3: DtypeWarning: Columns (22,32) have mixed types.Specify dtype option on import or set low_memory=False.\n",
      "  This is separate from the ipykernel package so we can avoid doing imports until\n"
     ]
    },
    {
     "name": "stdout",
     "output_type": "stream",
     "text": [
      "Setup Complete\n"
     ]
    }
   ],
   "source": [
    "from learntools.core import binder\n",
    "binder.bind(globals())\n",
    "from learntools.data_cleaning.ex1 import *\n",
    "print(\"Setup Complete\")"
   ]
  },
  {
   "cell_type": "markdown",
   "id": "14569716",
   "metadata": {
    "papermill": {
     "duration": 0.027197,
     "end_time": "2022-05-13T18:22:11.644358",
     "exception": false,
     "start_time": "2022-05-13T18:22:11.617161",
     "status": "completed"
    },
    "tags": []
   },
   "source": [
    "# 1) Take a first look at the data\n",
    "\n",
    "Run the next code cell to load in the libraries and dataset you'll use to complete the exercise."
   ]
  },
  {
   "cell_type": "code",
   "execution_count": 2,
   "id": "96d13482",
   "metadata": {
    "execution": {
     "iopub.execute_input": "2022-05-13T18:22:11.698031Z",
     "iopub.status.busy": "2022-05-13T18:22:11.697736Z",
     "iopub.status.idle": "2022-05-13T18:22:13.720884Z",
     "shell.execute_reply": "2022-05-13T18:22:13.718405Z"
    },
    "papermill": {
     "duration": 2.053583,
     "end_time": "2022-05-13T18:22:13.723850",
     "exception": false,
     "start_time": "2022-05-13T18:22:11.670267",
     "status": "completed"
    },
    "tags": []
   },
   "outputs": [
    {
     "name": "stderr",
     "output_type": "stream",
     "text": [
      "/opt/conda/lib/python3.7/site-packages/IPython/core/interactiveshell.py:3524: DtypeWarning: Columns (22,32) have mixed types.Specify dtype option on import or set low_memory=False.\n",
      "  exec(code_obj, self.user_global_ns, self.user_ns)\n"
     ]
    }
   ],
   "source": [
    "# modules we'll use\n",
    "import pandas as pd\n",
    "import numpy as np\n",
    "\n",
    "# read in all our data\n",
    "sf_permits = pd.read_csv(\"../input/building-permit-applications-data/Building_Permits.csv\")\n",
    "\n",
    "# set seed for reproducibility\n",
    "np.random.seed(0) "
   ]
  },
  {
   "cell_type": "markdown",
   "id": "d6240842",
   "metadata": {
    "papermill": {
     "duration": 0.033423,
     "end_time": "2022-05-13T18:22:13.790576",
     "exception": false,
     "start_time": "2022-05-13T18:22:13.757153",
     "status": "completed"
    },
    "tags": []
   },
   "source": [
    "Use the code cell below to print the first five rows of the `sf_permits` DataFrame."
   ]
  },
  {
   "cell_type": "code",
   "execution_count": 3,
   "id": "029fa01e",
   "metadata": {
    "execution": {
     "iopub.execute_input": "2022-05-13T18:22:13.856140Z",
     "iopub.status.busy": "2022-05-13T18:22:13.855817Z",
     "iopub.status.idle": "2022-05-13T18:22:13.892560Z",
     "shell.execute_reply": "2022-05-13T18:22:13.891697Z"
    },
    "papermill": {
     "duration": 0.070537,
     "end_time": "2022-05-13T18:22:13.894922",
     "exception": false,
     "start_time": "2022-05-13T18:22:13.824385",
     "status": "completed"
    },
    "tags": []
   },
   "outputs": [
    {
     "data": {
      "text/html": [
       "<div>\n",
       "<style scoped>\n",
       "    .dataframe tbody tr th:only-of-type {\n",
       "        vertical-align: middle;\n",
       "    }\n",
       "\n",
       "    .dataframe tbody tr th {\n",
       "        vertical-align: top;\n",
       "    }\n",
       "\n",
       "    .dataframe thead th {\n",
       "        text-align: right;\n",
       "    }\n",
       "</style>\n",
       "<table border=\"1\" class=\"dataframe\">\n",
       "  <thead>\n",
       "    <tr style=\"text-align: right;\">\n",
       "      <th></th>\n",
       "      <th>Permit Number</th>\n",
       "      <th>Permit Type</th>\n",
       "      <th>Permit Type Definition</th>\n",
       "      <th>Permit Creation Date</th>\n",
       "      <th>Block</th>\n",
       "      <th>Lot</th>\n",
       "      <th>Street Number</th>\n",
       "      <th>Street Number Suffix</th>\n",
       "      <th>Street Name</th>\n",
       "      <th>Street Suffix</th>\n",
       "      <th>...</th>\n",
       "      <th>Existing Construction Type</th>\n",
       "      <th>Existing Construction Type Description</th>\n",
       "      <th>Proposed Construction Type</th>\n",
       "      <th>Proposed Construction Type Description</th>\n",
       "      <th>Site Permit</th>\n",
       "      <th>Supervisor District</th>\n",
       "      <th>Neighborhoods - Analysis Boundaries</th>\n",
       "      <th>Zipcode</th>\n",
       "      <th>Location</th>\n",
       "      <th>Record ID</th>\n",
       "    </tr>\n",
       "  </thead>\n",
       "  <tbody>\n",
       "    <tr>\n",
       "      <th>0</th>\n",
       "      <td>201505065519</td>\n",
       "      <td>4</td>\n",
       "      <td>sign - erect</td>\n",
       "      <td>05/06/2015</td>\n",
       "      <td>0326</td>\n",
       "      <td>023</td>\n",
       "      <td>140</td>\n",
       "      <td>NaN</td>\n",
       "      <td>Ellis</td>\n",
       "      <td>St</td>\n",
       "      <td>...</td>\n",
       "      <td>3.0</td>\n",
       "      <td>constr type 3</td>\n",
       "      <td>NaN</td>\n",
       "      <td>NaN</td>\n",
       "      <td>NaN</td>\n",
       "      <td>3.0</td>\n",
       "      <td>Tenderloin</td>\n",
       "      <td>94102.0</td>\n",
       "      <td>(37.785719256680785, -122.40852313194863)</td>\n",
       "      <td>1380611233945</td>\n",
       "    </tr>\n",
       "    <tr>\n",
       "      <th>1</th>\n",
       "      <td>201604195146</td>\n",
       "      <td>4</td>\n",
       "      <td>sign - erect</td>\n",
       "      <td>04/19/2016</td>\n",
       "      <td>0306</td>\n",
       "      <td>007</td>\n",
       "      <td>440</td>\n",
       "      <td>NaN</td>\n",
       "      <td>Geary</td>\n",
       "      <td>St</td>\n",
       "      <td>...</td>\n",
       "      <td>3.0</td>\n",
       "      <td>constr type 3</td>\n",
       "      <td>NaN</td>\n",
       "      <td>NaN</td>\n",
       "      <td>NaN</td>\n",
       "      <td>3.0</td>\n",
       "      <td>Tenderloin</td>\n",
       "      <td>94102.0</td>\n",
       "      <td>(37.78733980600732, -122.41063199757738)</td>\n",
       "      <td>1420164406718</td>\n",
       "    </tr>\n",
       "    <tr>\n",
       "      <th>2</th>\n",
       "      <td>201605278609</td>\n",
       "      <td>3</td>\n",
       "      <td>additions alterations or repairs</td>\n",
       "      <td>05/27/2016</td>\n",
       "      <td>0595</td>\n",
       "      <td>203</td>\n",
       "      <td>1647</td>\n",
       "      <td>NaN</td>\n",
       "      <td>Pacific</td>\n",
       "      <td>Av</td>\n",
       "      <td>...</td>\n",
       "      <td>1.0</td>\n",
       "      <td>constr type 1</td>\n",
       "      <td>1.0</td>\n",
       "      <td>constr type 1</td>\n",
       "      <td>NaN</td>\n",
       "      <td>3.0</td>\n",
       "      <td>Russian Hill</td>\n",
       "      <td>94109.0</td>\n",
       "      <td>(37.7946573324287, -122.42232562979227)</td>\n",
       "      <td>1424856504716</td>\n",
       "    </tr>\n",
       "    <tr>\n",
       "      <th>3</th>\n",
       "      <td>201611072166</td>\n",
       "      <td>8</td>\n",
       "      <td>otc alterations permit</td>\n",
       "      <td>11/07/2016</td>\n",
       "      <td>0156</td>\n",
       "      <td>011</td>\n",
       "      <td>1230</td>\n",
       "      <td>NaN</td>\n",
       "      <td>Pacific</td>\n",
       "      <td>Av</td>\n",
       "      <td>...</td>\n",
       "      <td>5.0</td>\n",
       "      <td>wood frame (5)</td>\n",
       "      <td>5.0</td>\n",
       "      <td>wood frame (5)</td>\n",
       "      <td>NaN</td>\n",
       "      <td>3.0</td>\n",
       "      <td>Nob Hill</td>\n",
       "      <td>94109.0</td>\n",
       "      <td>(37.79595867909168, -122.41557405519474)</td>\n",
       "      <td>1443574295566</td>\n",
       "    </tr>\n",
       "    <tr>\n",
       "      <th>4</th>\n",
       "      <td>201611283529</td>\n",
       "      <td>6</td>\n",
       "      <td>demolitions</td>\n",
       "      <td>11/28/2016</td>\n",
       "      <td>0342</td>\n",
       "      <td>001</td>\n",
       "      <td>950</td>\n",
       "      <td>NaN</td>\n",
       "      <td>Market</td>\n",
       "      <td>St</td>\n",
       "      <td>...</td>\n",
       "      <td>3.0</td>\n",
       "      <td>constr type 3</td>\n",
       "      <td>NaN</td>\n",
       "      <td>NaN</td>\n",
       "      <td>NaN</td>\n",
       "      <td>6.0</td>\n",
       "      <td>Tenderloin</td>\n",
       "      <td>94102.0</td>\n",
       "      <td>(37.78315261897309, -122.40950883997789)</td>\n",
       "      <td>144548169992</td>\n",
       "    </tr>\n",
       "  </tbody>\n",
       "</table>\n",
       "<p>5 rows × 43 columns</p>\n",
       "</div>"
      ],
      "text/plain": [
       "  Permit Number  Permit Type            Permit Type Definition  \\\n",
       "0  201505065519            4                      sign - erect   \n",
       "1  201604195146            4                      sign - erect   \n",
       "2  201605278609            3  additions alterations or repairs   \n",
       "3  201611072166            8            otc alterations permit   \n",
       "4  201611283529            6                       demolitions   \n",
       "\n",
       "  Permit Creation Date Block  Lot  Street Number Street Number Suffix  \\\n",
       "0           05/06/2015  0326  023            140                  NaN   \n",
       "1           04/19/2016  0306  007            440                  NaN   \n",
       "2           05/27/2016  0595  203           1647                  NaN   \n",
       "3           11/07/2016  0156  011           1230                  NaN   \n",
       "4           11/28/2016  0342  001            950                  NaN   \n",
       "\n",
       "  Street Name Street Suffix  ...  Existing Construction Type  \\\n",
       "0       Ellis            St  ...                         3.0   \n",
       "1       Geary            St  ...                         3.0   \n",
       "2     Pacific            Av  ...                         1.0   \n",
       "3     Pacific            Av  ...                         5.0   \n",
       "4      Market            St  ...                         3.0   \n",
       "\n",
       "  Existing Construction Type Description Proposed Construction Type  \\\n",
       "0                          constr type 3                        NaN   \n",
       "1                          constr type 3                        NaN   \n",
       "2                          constr type 1                        1.0   \n",
       "3                         wood frame (5)                        5.0   \n",
       "4                          constr type 3                        NaN   \n",
       "\n",
       "  Proposed Construction Type Description Site Permit Supervisor District  \\\n",
       "0                                    NaN         NaN                 3.0   \n",
       "1                                    NaN         NaN                 3.0   \n",
       "2                          constr type 1         NaN                 3.0   \n",
       "3                         wood frame (5)         NaN                 3.0   \n",
       "4                                    NaN         NaN                 6.0   \n",
       "\n",
       "  Neighborhoods - Analysis Boundaries  Zipcode  \\\n",
       "0                          Tenderloin  94102.0   \n",
       "1                          Tenderloin  94102.0   \n",
       "2                        Russian Hill  94109.0   \n",
       "3                            Nob Hill  94109.0   \n",
       "4                          Tenderloin  94102.0   \n",
       "\n",
       "                                    Location      Record ID  \n",
       "0  (37.785719256680785, -122.40852313194863)  1380611233945  \n",
       "1   (37.78733980600732, -122.41063199757738)  1420164406718  \n",
       "2    (37.7946573324287, -122.42232562979227)  1424856504716  \n",
       "3   (37.79595867909168, -122.41557405519474)  1443574295566  \n",
       "4   (37.78315261897309, -122.40950883997789)   144548169992  \n",
       "\n",
       "[5 rows x 43 columns]"
      ]
     },
     "execution_count": 3,
     "metadata": {},
     "output_type": "execute_result"
    }
   ],
   "source": [
    "# TODO: Your code here!\n",
    "sf_permits.head(5)"
   ]
  },
  {
   "cell_type": "markdown",
   "id": "fe2d0245",
   "metadata": {
    "papermill": {
     "duration": 0.028185,
     "end_time": "2022-05-13T18:22:13.950983",
     "exception": false,
     "start_time": "2022-05-13T18:22:13.922798",
     "status": "completed"
    },
    "tags": []
   },
   "source": [
    "Does the dataset have any missing values?  Once you have an answer, run the code cell below to get credit for your work."
   ]
  },
  {
   "cell_type": "code",
   "execution_count": 4,
   "id": "9ebd827d",
   "metadata": {
    "execution": {
     "iopub.execute_input": "2022-05-13T18:22:14.009906Z",
     "iopub.status.busy": "2022-05-13T18:22:14.009054Z",
     "iopub.status.idle": "2022-05-13T18:22:14.512184Z",
     "shell.execute_reply": "2022-05-13T18:22:14.511294Z"
    },
    "papermill": {
     "duration": 0.534057,
     "end_time": "2022-05-13T18:22:14.514326",
     "exception": false,
     "start_time": "2022-05-13T18:22:13.980269",
     "status": "completed"
    },
    "tags": []
   },
   "outputs": [
    {
     "data": {
      "application/javascript": [
       "parent.postMessage({\"jupyterEvent\": \"custom.exercise_interaction\", \"data\": {\"outcomeType\": 1, \"valueTowardsCompletion\": 0.16666666666666666, \"interactionType\": 1, \"questionType\": 4, \"questionId\": \"1_TakeFirstLook\", \"learnToolsVersion\": \"0.3.4\", \"failureMessage\": \"\", \"exceptionClass\": \"\", \"trace\": \"\"}}, \"*\")"
      ],
      "text/plain": [
       "<IPython.core.display.Javascript object>"
      ]
     },
     "metadata": {},
     "output_type": "display_data"
    },
    {
     "data": {
      "text/markdown": [
       "<span style=\"color:#33cc33\">Correct:</span> \n",
       "\n",
       "The first five rows of the data does show that several columns have missing values.  You can see this in the \"Street Number Suffix\", \"Proposed Construction Type\" and \"Site Permit\" columns, among others."
      ],
      "text/plain": [
       "Correct: \n",
       "\n",
       "The first five rows of the data does show that several columns have missing values.  You can see this in the \"Street Number Suffix\", \"Proposed Construction Type\" and \"Site Permit\" columns, among others."
      ]
     },
     "metadata": {},
     "output_type": "display_data"
    },
    {
     "data": {
      "text/plain": [
       "2245941"
      ]
     },
     "execution_count": 4,
     "metadata": {},
     "output_type": "execute_result"
    }
   ],
   "source": [
    "# Check your answer (Run this code cell to receive credit!)\n",
    "q1.check()\n",
    "total_cells = np.product(sf_permits.shape)\n",
    "missing_values_count = sf_permits.isnull().sum()\n",
    "total_missing = missing_values_count.sum()\n",
    "total_missing"
   ]
  },
  {
   "cell_type": "code",
   "execution_count": 5,
   "id": "8896494e",
   "metadata": {
    "execution": {
     "iopub.execute_input": "2022-05-13T18:22:14.575444Z",
     "iopub.status.busy": "2022-05-13T18:22:14.575001Z",
     "iopub.status.idle": "2022-05-13T18:22:14.578543Z",
     "shell.execute_reply": "2022-05-13T18:22:14.577771Z"
    },
    "papermill": {
     "duration": 0.035812,
     "end_time": "2022-05-13T18:22:14.580512",
     "exception": false,
     "start_time": "2022-05-13T18:22:14.544700",
     "status": "completed"
    },
    "tags": []
   },
   "outputs": [],
   "source": [
    "# Line below will give you a hint\n",
    "#q1.hint()"
   ]
  },
  {
   "cell_type": "markdown",
   "id": "3eb43342",
   "metadata": {
    "papermill": {
     "duration": 0.029273,
     "end_time": "2022-05-13T18:22:14.638631",
     "exception": false,
     "start_time": "2022-05-13T18:22:14.609358",
     "status": "completed"
    },
    "tags": []
   },
   "source": [
    "# 2) How many missing data points do we have?\n",
    "\n",
    "What percentage of the values in the dataset are missing?  Your answer should be a number between 0 and 100.  (If 1/4 of the values in the dataset are missing, the answer is 25.)"
   ]
  },
  {
   "cell_type": "code",
   "execution_count": 6,
   "id": "96268067",
   "metadata": {
    "execution": {
     "iopub.execute_input": "2022-05-13T18:22:14.697996Z",
     "iopub.status.busy": "2022-05-13T18:22:14.697705Z",
     "iopub.status.idle": "2022-05-13T18:22:14.707586Z",
     "shell.execute_reply": "2022-05-13T18:22:14.706442Z"
    },
    "papermill": {
     "duration": 0.042652,
     "end_time": "2022-05-13T18:22:14.710203",
     "exception": false,
     "start_time": "2022-05-13T18:22:14.667551",
     "status": "completed"
    },
    "tags": []
   },
   "outputs": [
    {
     "name": "stdout",
     "output_type": "stream",
     "text": [
      "26.26002315058403\n"
     ]
    },
    {
     "data": {
      "application/javascript": [
       "parent.postMessage({\"jupyterEvent\": \"custom.exercise_interaction\", \"data\": {\"outcomeType\": 1, \"valueTowardsCompletion\": 0.16666666666666666, \"interactionType\": 1, \"questionType\": 1, \"questionId\": \"2_PercentMissingValues\", \"learnToolsVersion\": \"0.3.4\", \"failureMessage\": \"\", \"exceptionClass\": \"\", \"trace\": \"\"}}, \"*\")"
      ],
      "text/plain": [
       "<IPython.core.display.Javascript object>"
      ]
     },
     "metadata": {},
     "output_type": "display_data"
    },
    {
     "data": {
      "text/markdown": [
       "<span style=\"color:#33cc33\">Correct</span>"
      ],
      "text/plain": [
       "Correct"
      ]
     },
     "metadata": {},
     "output_type": "display_data"
    }
   ],
   "source": [
    "# TODO: Your code here!\n",
    "percent_missing = (total_missing/total_cells)*100\n",
    "print(percent_missing)\n",
    "\n",
    "# Check your answer\n",
    "q2.check()"
   ]
  },
  {
   "cell_type": "code",
   "execution_count": 7,
   "id": "f2b944d3",
   "metadata": {
    "execution": {
     "iopub.execute_input": "2022-05-13T18:22:14.775540Z",
     "iopub.status.busy": "2022-05-13T18:22:14.775078Z",
     "iopub.status.idle": "2022-05-13T18:22:14.778669Z",
     "shell.execute_reply": "2022-05-13T18:22:14.777985Z"
    },
    "papermill": {
     "duration": 0.038553,
     "end_time": "2022-05-13T18:22:14.780679",
     "exception": false,
     "start_time": "2022-05-13T18:22:14.742126",
     "status": "completed"
    },
    "tags": []
   },
   "outputs": [],
   "source": [
    "# Lines below will give you a hint or solution code\n",
    "#q2.hint()\n",
    "#q2.solution()"
   ]
  },
  {
   "cell_type": "markdown",
   "id": "e87212a1",
   "metadata": {
    "papermill": {
     "duration": 0.031729,
     "end_time": "2022-05-13T18:22:14.844576",
     "exception": false,
     "start_time": "2022-05-13T18:22:14.812847",
     "status": "completed"
    },
    "tags": []
   },
   "source": [
    "# 3) Figure out why the data is missing\n",
    "\n",
    "Look at the columns **\"Street Number Suffix\"** and **\"Zipcode\"** from the [San Francisco Building Permits dataset](https://www.kaggle.com/aparnashastry/building-permit-applications-data). Both of these contain missing values. \n",
    "- Which, if either, are missing because they don't exist? \n",
    "- Which, if either, are missing because they weren't recorded?  \n",
    "\n",
    "Once you have an answer, run the code cell below."
   ]
  },
  {
   "cell_type": "code",
   "execution_count": 8,
   "id": "9b0394bf",
   "metadata": {
    "execution": {
     "iopub.execute_input": "2022-05-13T18:22:14.908139Z",
     "iopub.status.busy": "2022-05-13T18:22:14.907708Z",
     "iopub.status.idle": "2022-05-13T18:22:14.916010Z",
     "shell.execute_reply": "2022-05-13T18:22:14.915070Z"
    },
    "papermill": {
     "duration": 0.042834,
     "end_time": "2022-05-13T18:22:14.918558",
     "exception": false,
     "start_time": "2022-05-13T18:22:14.875724",
     "status": "completed"
    },
    "tags": []
   },
   "outputs": [
    {
     "data": {
      "application/javascript": [
       "parent.postMessage({\"jupyterEvent\": \"custom.exercise_interaction\", \"data\": {\"outcomeType\": 1, \"valueTowardsCompletion\": 0.16666666666666666, \"interactionType\": 1, \"questionType\": 4, \"questionId\": \"3_WhyDataMissing\", \"learnToolsVersion\": \"0.3.4\", \"failureMessage\": \"\", \"exceptionClass\": \"\", \"trace\": \"\"}}, \"*\")"
      ],
      "text/plain": [
       "<IPython.core.display.Javascript object>"
      ]
     },
     "metadata": {},
     "output_type": "display_data"
    },
    {
     "data": {
      "text/markdown": [
       "<span style=\"color:#33cc33\">Correct:</span> \n",
       "\n",
       "If a value in the \"Street Number Suffix\" column is missing, it is likely because it does not exist. If a value in the \"Zipcode\" column is missing, it was not recorded."
      ],
      "text/plain": [
       "Correct: \n",
       "\n",
       "If a value in the \"Street Number Suffix\" column is missing, it is likely because it does not exist. If a value in the \"Zipcode\" column is missing, it was not recorded."
      ]
     },
     "metadata": {},
     "output_type": "display_data"
    }
   ],
   "source": [
    "# Check your answer (Run this code cell to receive credit!)\n",
    "#Street Number Suffix is missing beacuse it is likely it doesn't exist.\n",
    "#Zipcode column was missing beacuse it was not recorded.\n",
    "q3.check()"
   ]
  },
  {
   "cell_type": "code",
   "execution_count": 9,
   "id": "d4024102",
   "metadata": {
    "execution": {
     "iopub.execute_input": "2022-05-13T18:22:14.983792Z",
     "iopub.status.busy": "2022-05-13T18:22:14.983358Z",
     "iopub.status.idle": "2022-05-13T18:22:14.987175Z",
     "shell.execute_reply": "2022-05-13T18:22:14.986556Z"
    },
    "papermill": {
     "duration": 0.039028,
     "end_time": "2022-05-13T18:22:14.989327",
     "exception": false,
     "start_time": "2022-05-13T18:22:14.950299",
     "status": "completed"
    },
    "tags": []
   },
   "outputs": [],
   "source": [
    "# Line below will give you a hint\n",
    "#q3.hint()"
   ]
  },
  {
   "cell_type": "markdown",
   "id": "f7aad773",
   "metadata": {
    "papermill": {
     "duration": 0.032556,
     "end_time": "2022-05-13T18:22:15.055428",
     "exception": false,
     "start_time": "2022-05-13T18:22:15.022872",
     "status": "completed"
    },
    "tags": []
   },
   "source": [
    "# 4) Drop missing values: rows\n",
    "\n",
    "If you removed all of the rows of `sf_permits` with missing values, how many rows are left?\n",
    "\n",
    "**Note**: Do not change the value of `sf_permits` when checking this.  "
   ]
  },
  {
   "cell_type": "code",
   "execution_count": 10,
   "id": "c5d5746c",
   "metadata": {
    "execution": {
     "iopub.execute_input": "2022-05-13T18:22:15.122091Z",
     "iopub.status.busy": "2022-05-13T18:22:15.121655Z",
     "iopub.status.idle": "2022-05-13T18:22:16.134969Z",
     "shell.execute_reply": "2022-05-13T18:22:16.133652Z"
    },
    "papermill": {
     "duration": 1.050232,
     "end_time": "2022-05-13T18:22:16.137618",
     "exception": false,
     "start_time": "2022-05-13T18:22:15.087386",
     "status": "completed"
    },
    "tags": []
   },
   "outputs": [
    {
     "name": "stdout",
     "output_type": "stream",
     "text": [
      "rows in original dataset: 198900 \n",
      "\n",
      "rows with na dropped: 0\n"
     ]
    }
   ],
   "source": [
    "# TODO: Your code here!\n",
    "sf_permits.dropna()\n",
    "rows_with_na_dropped = sf_permits.dropna(axis=0)\n",
    "rows_with_na_dropped.head()\n",
    "print(\"rows in original dataset: %d \\n\" % sf_permits.shape[0])\n",
    "print(\"rows with na dropped: %d\" % rows_with_na_dropped.shape[0])\n"
   ]
  },
  {
   "cell_type": "markdown",
   "id": "d658d4ce",
   "metadata": {
    "papermill": {
     "duration": 0.033307,
     "end_time": "2022-05-13T18:22:16.204986",
     "exception": false,
     "start_time": "2022-05-13T18:22:16.171679",
     "status": "completed"
    },
    "tags": []
   },
   "source": [
    "Once you have an answer, run the code cell below."
   ]
  },
  {
   "cell_type": "code",
   "execution_count": 11,
   "id": "326a96d7",
   "metadata": {
    "execution": {
     "iopub.execute_input": "2022-05-13T18:22:16.271480Z",
     "iopub.status.busy": "2022-05-13T18:22:16.271183Z",
     "iopub.status.idle": "2022-05-13T18:22:16.279371Z",
     "shell.execute_reply": "2022-05-13T18:22:16.278406Z"
    },
    "papermill": {
     "duration": 0.044046,
     "end_time": "2022-05-13T18:22:16.281932",
     "exception": false,
     "start_time": "2022-05-13T18:22:16.237886",
     "status": "completed"
    },
    "tags": []
   },
   "outputs": [
    {
     "data": {
      "application/javascript": [
       "parent.postMessage({\"jupyterEvent\": \"custom.exercise_interaction\", \"data\": {\"outcomeType\": 1, \"valueTowardsCompletion\": 0.16666666666666666, \"interactionType\": 1, \"questionType\": 4, \"questionId\": \"4_DropMissingRows\", \"learnToolsVersion\": \"0.3.4\", \"failureMessage\": \"\", \"exceptionClass\": \"\", \"trace\": \"\"}}, \"*\")"
      ],
      "text/plain": [
       "<IPython.core.display.Javascript object>"
      ]
     },
     "metadata": {},
     "output_type": "display_data"
    },
    {
     "data": {
      "text/markdown": [
       "<span style=\"color:#33cc33\">Correct:</span> \n",
       "\n",
       "There are no rows remaining in the dataset!"
      ],
      "text/plain": [
       "Correct: \n",
       "\n",
       "There are no rows remaining in the dataset!"
      ]
     },
     "metadata": {},
     "output_type": "display_data"
    }
   ],
   "source": [
    "# Check your answer (Run this code cell to receive credit!)\n",
    "q4.check()"
   ]
  },
  {
   "cell_type": "code",
   "execution_count": 12,
   "id": "0a3b6593",
   "metadata": {
    "execution": {
     "iopub.execute_input": "2022-05-13T18:22:16.354764Z",
     "iopub.status.busy": "2022-05-13T18:22:16.354089Z",
     "iopub.status.idle": "2022-05-13T18:22:16.357589Z",
     "shell.execute_reply": "2022-05-13T18:22:16.356864Z"
    },
    "papermill": {
     "duration": 0.042778,
     "end_time": "2022-05-13T18:22:16.359412",
     "exception": false,
     "start_time": "2022-05-13T18:22:16.316634",
     "status": "completed"
    },
    "tags": []
   },
   "outputs": [],
   "source": [
    "# Line below will give you a hint\n",
    "#q4.hint()"
   ]
  },
  {
   "cell_type": "markdown",
   "id": "08b6206b",
   "metadata": {
    "papermill": {
     "duration": 0.032907,
     "end_time": "2022-05-13T18:22:16.425490",
     "exception": false,
     "start_time": "2022-05-13T18:22:16.392583",
     "status": "completed"
    },
    "tags": []
   },
   "source": [
    "# 5) Drop missing values: columns\n",
    "\n",
    "Now try removing all the columns with empty values.  \n",
    "- Create a new DataFrame called `sf_permits_with_na_dropped` that has all of the columns with empty values removed.  \n",
    "- How many columns were removed from the original `sf_permits` DataFrame? Use this number to set the value of the `dropped_columns` variable below."
   ]
  },
  {
   "cell_type": "code",
   "execution_count": 13,
   "id": "cc6d626c",
   "metadata": {
    "execution": {
     "iopub.execute_input": "2022-05-13T18:22:16.495451Z",
     "iopub.status.busy": "2022-05-13T18:22:16.494888Z",
     "iopub.status.idle": "2022-05-13T18:22:18.033256Z",
     "shell.execute_reply": "2022-05-13T18:22:18.031913Z"
    },
    "papermill": {
     "duration": 1.577151,
     "end_time": "2022-05-13T18:22:18.035844",
     "exception": false,
     "start_time": "2022-05-13T18:22:16.458693",
     "status": "completed"
    },
    "tags": []
   },
   "outputs": [
    {
     "name": "stdout",
     "output_type": "stream",
     "text": [
      "columns in original dataset: 43 \n",
      "\n",
      "dropped_columns: 12\n"
     ]
    }
   ],
   "source": [
    "# TODO: Your code here\n",
    "sf_permits.dropna()\n",
    "sf_permits_with_na_dropped = sf_permits.dropna(axis=1)\n",
    "sf_permits_with_na_dropped.head()\n",
    "dropped_columns = sf_permits.dropna(axis=1)\n",
    "\n",
    "print(\"columns in original dataset: %d \\n\" % sf_permits.shape[1])\n",
    "print(\"dropped_columns: %d\" % dropped_columns.shape[1])\n"
   ]
  },
  {
   "cell_type": "code",
   "execution_count": 14,
   "id": "9b30b0f8",
   "metadata": {
    "execution": {
     "iopub.execute_input": "2022-05-13T18:22:18.111934Z",
     "iopub.status.busy": "2022-05-13T18:22:18.111371Z",
     "iopub.status.idle": "2022-05-13T18:22:18.115399Z",
     "shell.execute_reply": "2022-05-13T18:22:18.114360Z"
    },
    "papermill": {
     "duration": 0.045459,
     "end_time": "2022-05-13T18:22:18.117481",
     "exception": false,
     "start_time": "2022-05-13T18:22:18.072022",
     "status": "completed"
    },
    "tags": []
   },
   "outputs": [],
   "source": [
    "# Check your answer\n",
    "#q5.check()"
   ]
  },
  {
   "cell_type": "code",
   "execution_count": 15,
   "id": "716c1eb1",
   "metadata": {
    "execution": {
     "iopub.execute_input": "2022-05-13T18:22:18.192033Z",
     "iopub.status.busy": "2022-05-13T18:22:18.191204Z",
     "iopub.status.idle": "2022-05-13T18:22:18.195212Z",
     "shell.execute_reply": "2022-05-13T18:22:18.194596Z"
    },
    "papermill": {
     "duration": 0.043485,
     "end_time": "2022-05-13T18:22:18.197293",
     "exception": false,
     "start_time": "2022-05-13T18:22:18.153808",
     "status": "completed"
    },
    "tags": []
   },
   "outputs": [],
   "source": [
    "# Lines below will give you a hint or solution code\n",
    "#q5.hint()\n",
    "#q5.solution()"
   ]
  },
  {
   "cell_type": "markdown",
   "id": "8f5c53f2",
   "metadata": {
    "papermill": {
     "duration": 0.035903,
     "end_time": "2022-05-13T18:22:18.267887",
     "exception": false,
     "start_time": "2022-05-13T18:22:18.231984",
     "status": "completed"
    },
    "tags": []
   },
   "source": [
    "# 6) Fill in missing values automatically\n",
    "\n",
    "Try replacing all the NaN's in the `sf_permits` data with the one that comes directly after it and then replacing any remaining NaN's with 0.  Set the result to a new DataFrame `sf_permits_with_na_imputed`."
   ]
  },
  {
   "cell_type": "code",
   "execution_count": 16,
   "id": "d1860955",
   "metadata": {
    "execution": {
     "iopub.execute_input": "2022-05-13T18:22:18.339174Z",
     "iopub.status.busy": "2022-05-13T18:22:18.338179Z",
     "iopub.status.idle": "2022-05-13T18:22:19.857557Z",
     "shell.execute_reply": "2022-05-13T18:22:19.856719Z"
    },
    "papermill": {
     "duration": 1.55764,
     "end_time": "2022-05-13T18:22:19.859573",
     "exception": false,
     "start_time": "2022-05-13T18:22:18.301933",
     "status": "completed"
    },
    "tags": []
   },
   "outputs": [
    {
     "data": {
      "application/javascript": [
       "parent.postMessage({\"jupyterEvent\": \"custom.exercise_interaction\", \"data\": {\"outcomeType\": 1, \"valueTowardsCompletion\": 0.16666666666666666, \"interactionType\": 1, \"questionType\": 1, \"questionId\": \"6_ImputeAutomatically\", \"learnToolsVersion\": \"0.3.4\", \"failureMessage\": \"\", \"exceptionClass\": \"\", \"trace\": \"\"}}, \"*\")"
      ],
      "text/plain": [
       "<IPython.core.display.Javascript object>"
      ]
     },
     "metadata": {},
     "output_type": "display_data"
    },
    {
     "data": {
      "text/markdown": [
       "<span style=\"color:#33cc33\">Correct</span>"
      ],
      "text/plain": [
       "Correct"
      ]
     },
     "metadata": {},
     "output_type": "display_data"
    }
   ],
   "source": [
    "# TODO: Your code here\n",
    "sf_permits_with_na_imputed = sf_permits.fillna(method='bfill', axis=0).fillna(0)\n",
    "sf_permits_with_na_imputed\n",
    "q6.check()"
   ]
  },
  {
   "cell_type": "code",
   "execution_count": 17,
   "id": "b5174732",
   "metadata": {
    "execution": {
     "iopub.execute_input": "2022-05-13T18:22:19.937070Z",
     "iopub.status.busy": "2022-05-13T18:22:19.936131Z",
     "iopub.status.idle": "2022-05-13T18:22:19.939718Z",
     "shell.execute_reply": "2022-05-13T18:22:19.939074Z"
    },
    "papermill": {
     "duration": 0.044615,
     "end_time": "2022-05-13T18:22:19.941768",
     "exception": false,
     "start_time": "2022-05-13T18:22:19.897153",
     "status": "completed"
    },
    "tags": []
   },
   "outputs": [],
   "source": [
    "# Lines below will give you a hint or solution code\n",
    "#q6.hint()\n",
    "#q6.solution()\n"
   ]
  },
  {
   "cell_type": "markdown",
   "id": "21afb069",
   "metadata": {
    "papermill": {
     "duration": 0.03871,
     "end_time": "2022-05-13T18:22:20.018956",
     "exception": false,
     "start_time": "2022-05-13T18:22:19.980246",
     "status": "completed"
    },
    "tags": []
   },
   "source": [
    "# More practice\n",
    "\n",
    "If you're looking for more practice handling missing values:\n",
    "\n",
    "* Check out [this noteboook](https://www.kaggle.com/alexisbcook/missing-values) on handling missing values using scikit-learn's imputer. \n",
    "* Look back at the \"Zipcode\" column in the `sf_permits` dataset, which has some missing values. How would you go about figuring out what the actual zipcode of each address should be? (You might try using another dataset. You can search for datasets about San Fransisco on the [Datasets listing](https://www.kaggle.com/datasets).) \n",
    "\n",
    "# Keep going\n",
    "\n",
    "In the next lesson, learn how to [**apply scaling and normalization**](https://www.kaggle.com/alexisbcook/scaling-and-normalization) to transform your data."
   ]
  },
  {
   "cell_type": "markdown",
   "id": "47ad6cf0",
   "metadata": {
    "papermill": {
     "duration": 0.038283,
     "end_time": "2022-05-13T18:22:20.092334",
     "exception": false,
     "start_time": "2022-05-13T18:22:20.054051",
     "status": "completed"
    },
    "tags": []
   },
   "source": [
    "---\n",
    "\n",
    "\n",
    "\n",
    "\n",
    "*Have questions or comments? Visit the [course discussion forum](https://www.kaggle.com/learn/data-cleaning/discussion) to chat with other learners.*"
   ]
  }
 ],
 "metadata": {
  "kernelspec": {
   "display_name": "Python 3",
   "language": "python",
   "name": "python3"
  },
  "language_info": {
   "codemirror_mode": {
    "name": "ipython",
    "version": 3
   },
   "file_extension": ".py",
   "mimetype": "text/x-python",
   "name": "python",
   "nbconvert_exporter": "python",
   "pygments_lexer": "ipython3",
   "version": "3.7.12"
  },
  "papermill": {
   "default_parameters": {},
   "duration": 26.634814,
   "end_time": "2022-05-13T18:22:20.952986",
   "environment_variables": {},
   "exception": null,
   "input_path": "__notebook__.ipynb",
   "output_path": "__notebook__.ipynb",
   "parameters": {},
   "start_time": "2022-05-13T18:21:54.318172",
   "version": "2.3.4"
  }
 },
 "nbformat": 4,
 "nbformat_minor": 5
}
